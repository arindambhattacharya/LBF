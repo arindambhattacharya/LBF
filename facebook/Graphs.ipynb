{
 "cells": [
  {
   "cell_type": "markdown",
   "metadata": {
    "Collapsed": "false"
   },
   "source": [
    "# DPBF"
   ]
  },
  {
   "cell_type": "code",
   "execution_count": 22,
   "metadata": {
    "Collapsed": "false"
   },
   "outputs": [],
   "source": [
    "import numpy as np\n",
    "ialbf_init_time = [0.04, 0.04, 0.04]\n",
    "ialbf_init_fpr = [0.014164, 0.009943, 0.012552]\n",
    "ialbf_init_mem_bf = np.array([1314, 1330, 1298])\n",
    "ialbf_init_mem_clf = np.array([56, 56, 56])\n",
    "ialbf_init_mem_total = ialbf_init_mem_clf + ialbf_init_mem_bf\n",
    "ialbf_insert_time = [0.02, 0.02, 0.02]\n",
    "ialbf_insert_fpr_ins = [0.007215, 0.020558, 0.013514]\n",
    "ialbf_insert_fpr_test = [0.011111, 0.004310, 0.006438]\n",
    "ialbf_insert_fpr_all = [0.010817, 0.012439, 0.011357]\n",
    "ialbf_insert_mem_bf = np.array([1314.00, 1330, 1298])\n",
    "ialbf_insert_mem_total = ialbf_init_mem_clf + ialbf_insert_mem_bf"
   ]
  },
  {
   "cell_type": "code",
   "execution_count": 23,
   "metadata": {
    "Collapsed": "false"
   },
   "outputs": [],
   "source": [
    "calbf1_init_time = [0.04, 0.04, 0.04]\n",
    "calbf1_init_fpr = [0.008902, 0.008608, 0.005891]\n",
    "calbf1_init_mem_bf = np.array([56, 56, 56])\n",
    "calbf1_init_mem_clf = np.array([56, 56, 56])\n",
    "calbf1_init_mem_clf_full = np.array([488, 488, 488])\n",
    "calbf1_init_mem_total = calbf1_init_mem_clf + calbf1_init_mem_bf\n",
    "calbf1_insert_time = [0.05, 0.05, 0.05]\n",
    "calbf1_insert_time_train = [0.05, 0.05, 0.05]\n",
    "calbf1_insert_fpr_ins = [0.008451, 0.019118, 0.005865]\n",
    "calbf1_insert_fpr_test = [0.006452, 0.004237, 0.010246]\n",
    "calbf1_insert_fpr_all = [0.008112, 0.011357, 0.007031]\n",
    "calbf1_insert_mem_bf = np.array([112, 112, 112])\n",
    "calbf1_insert_mem_total = calbf1_init_mem_clf + calbf1_insert_mem_bf"
   ]
  },
  {
   "cell_type": "code",
   "execution_count": 24,
   "metadata": {
    "Collapsed": "false"
   },
   "outputs": [],
   "source": [
    "calbf2_init_time = [0.04, 0.04, 0.04]\n",
    "calbf2_init_fpr = [0.029830, 0.005874, 0.018492]\n",
    "calbf2_init_mem_bf = np.array([56.00, 56, 56])\n",
    "calbf2_init_mem_clf = np.array([56.00, 56, 56])\n",
    "calbf2_init_mem_clf_full = np.array([488, 488, 488])\n",
    "calbf2_init_mem_total = calbf2_init_mem_clf + calbf2_init_mem_bf\n",
    "calbf2_insert_time = [0.05, 0.05, 0.05]\n",
    "calbf2_insert_time_train = [0.31, 0.27, 0.26]\n",
    "calbf2_insert_fpr_ins = [0.008759, 0.007123, 0.013433]\n",
    "calbf2_insert_fpr_test = [0.015217, 0.006438, 0.012605]\n",
    "calbf2_insert_fpr_all = [0.011357, 0.008112, 0.015684]\n",
    "calbf2_insert_mem_bf = np.array([112, 112, 112])\n",
    "calbf2_insert_mem_total = calbf2_init_mem_clf + calbf2_insert_mem_bf"
   ]
  },
  {
   "cell_type": "code",
   "execution_count": 25,
   "metadata": {
    "Collapsed": "false"
   },
   "outputs": [],
   "source": [
    "base_init_time = [0.04, 0.04, 0.04]\n",
    "base_init_fpr = [0.019635, 0.017635, 0.018635]\n",
    "base_init_mem_bf = np.array([56.00, 56, 56])\n",
    "base_init_mem_clf = np.array([56.00, 56, 56])\n",
    "base_init_mem_clf_full = np.array([488, 488, 488])\n",
    "base_init_mem_total = base_init_mem_clf + base_init_mem_bf\n",
    "base_insert_time = [0.05, 0.05, 0.05]\n",
    "base_insert_time_train = [0.05, 0.05, 0.05]\n",
    "base_insert_fpr_ins = [0.022556, 0.023556, 0.024556]\n",
    "base_insert_fpr_test = [0.016985, 0.017985, 0.018985]\n",
    "base_insert_fpr_all = [0.020011, 0.021011, 0.022011]\n",
    "base_insert_mem_bf = np.array([56.00, 56, 56])\n",
    "base_insert_mem_total = base_init_mem_clf + base_insert_mem_bf"
   ]
  },
  {
   "cell_type": "code",
   "execution_count": 26,
   "metadata": {
    "Collapsed": "false"
   },
   "outputs": [],
   "source": [
    "import numpy as np\n",
    "import matplotlib.pyplot as plt\n",
    "plt.style.use('seaborn-muted')"
   ]
  },
  {
   "cell_type": "code",
   "execution_count": 27,
   "metadata": {
    "Collapsed": "false"
   },
   "outputs": [
    {
     "data": {
      "image/png": "[encoded data removed]",
      "text/plain": [
       "<Figure size 432x288 with 1 Axes>"
      ]
     },
     "metadata": {
      "needs_background": "light"
     },
     "output_type": "display_data"
    }
   ],
   "source": [
    "x_axis = np.array([0, 1, 2])\n",
    "width = 0.2\n",
    "plt.bar(x_axis - width, [np.mean(ialbf_init_fpr), np.mean(ialbf_insert_fpr_all), np.mean(ialbf_insert_fpr_test)], \n",
    "        yerr = [np.std(ialbf_init_fpr), np.std(ialbf_insert_fpr_all), np.std(ialbf_insert_fpr_all)], capsize=0.1,\n",
    "        width=width, label='IA-LBF')\n",
    "plt.bar(x_axis , [np.mean(calbf1_init_fpr), np.mean(calbf1_insert_fpr_all), np.mean(calbf1_insert_fpr_test)], \n",
    "        yerr = [np.std(calbf1_init_fpr), np.std(calbf1_insert_fpr_all), np.std(calbf1_insert_fpr_test)], capsize=0.1,\n",
    "        width=width, label='CA-LBF I')\n",
    "plt.bar(x_axis + width, [np.mean(calbf2_init_fpr), np.mean(calbf2_insert_fpr_all), np.mean(calbf2_insert_fpr_test)], \n",
    "        yerr = [np.std(calbf2_init_fpr), np.std(calbf2_insert_fpr_all), np.std(calbf2_insert_fpr_test)], capsize=0.1,\n",
    "        width=width, label='CA-LBF II')\n",
    "plt.bar(x_axis + 2*width, [np.mean(base_init_fpr), np.mean(base_insert_fpr_all), np.mean(base_insert_fpr_test)], \n",
    "        yerr = [np.std(base_init_fpr), np.std(base_insert_fpr_all), np.std(base_insert_fpr_test)], capsize=0.1,\n",
    "        width=width, label='Baseline')\n",
    "plt.xticks([0, 1, 2], ['Initial', 'Final (All data)', 'Final (Test data)'], fontsize=14)\n",
    "plt.ylim([0, 0.05])\n",
    "plt.ylabel('False Positive Rate', fontsize=14)\n",
    "#plt.title('False positive rates for Facebook Check-in (all data)', fontsize=16)\n",
    "plt.legend(fontsize=14, frameon=False)\n",
    "plt.savefig('plots/fb_fpr.png')\n",
    "plt.savefig('plots/fb_fpr.pdf')"
   ]
  },
  {
   "cell_type": "code",
   "execution_count": 28,
   "metadata": {
    "Collapsed": "false"
   },
   "outputs": [
    {
     "data": {
      "image/png": "[encoded data removed]",
      "text/plain": [
       "<Figure size 432x288 with 1 Axes>"
      ]
     },
     "metadata": {
      "needs_background": "light"
     },
     "output_type": "display_data"
    }
   ],
   "source": [
    "x_axis = np.array([0, 1])\n",
    "width = 0.2\n",
    "plt.bar(x_axis - width, [np.mean(ialbf_init_fpr), np.mean(ialbf_insert_fpr_test)], \n",
    "        yerr = [np.std(ialbf_init_fpr), np.std(ialbf_insert_fpr_all)], capsize=0.1,\n",
    "        width=width, label='IA-LBF')\n",
    "plt.bar(x_axis , [np.mean(calbf1_init_fpr), np.mean(calbf1_insert_fpr_test)], \n",
    "        yerr = [np.std(calbf1_init_fpr), np.std(calbf1_insert_fpr_all)], capsize=0.1,\n",
    "        width=width, label='CA-LBF I')\n",
    "plt.bar(x_axis + width, [np.mean(calbf2_init_fpr), np.mean(calbf2_insert_fpr_test)], \n",
    "        yerr = [np.std(calbf2_init_fpr), np.std(calbf2_insert_fpr_all)], capsize=0.1,\n",
    "        width=width, label='CA-LBF II')\n",
    "plt.bar(x_axis + 2*width, [np.mean(base_init_fpr), np.mean(base_insert_fpr_test)], \n",
    "        yerr = [np.std(base_init_fpr), np.std(base_insert_fpr_all)], capsize=0.1,\n",
    "        width=width, label='Baseline')\n",
    "plt.xticks([0, 1], ['Initial', 'Final'], fontsize=14)\n",
    "plt.ylim([0, 0.05])\n",
    "plt.ylabel('False Positive Rate', fontsize=14)\n",
    "#plt.title('False positive rates for Facebook Check-in (test (unseen) data)', fontsize=16)\n",
    "plt.legend(fontsize=14, frameon=False)\n",
    "plt.savefig('plots/fb_fpr_all.png')\n",
    "plt.savefig('plots/fb_fpr_all.pdf')"
   ]
  },
  {
   "cell_type": "code",
   "execution_count": 29,
   "metadata": {
    "Collapsed": "false"
   },
   "outputs": [
    {
     "name": "stdout",
     "output_type": "stream",
     "text": [
      "[1370 1386 1354]\n",
      "[1370. 1386. 1354.]\n"
     ]
    },
    {
     "data": {
      "image/png": "[encoded data removed]",
      "text/plain": [
       "<Figure size 432x288 with 1 Axes>"
      ]
     },
     "metadata": {
      "needs_background": "light"
     },
     "output_type": "display_data"
    }
   ],
   "source": [
    "x_axis = np.array([0, 1])\n",
    "width = 0.2\n",
    "print(ialbf_init_mem_total)\n",
    "print(ialbf_insert_mem_total)\n",
    "plt.bar(x_axis - width, [np.mean(ialbf_init_mem_total), np.mean(ialbf_insert_mem_total)], \n",
    "        yerr = [np.std(ialbf_init_mem_total), np.std(ialbf_insert_mem_total)], capsize=0.1,\n",
    "        width=width, label='IA-LBF')\n",
    "plt.bar(x_axis , [np.mean(calbf1_init_mem_total), np.mean(calbf1_insert_mem_total)], \n",
    "        yerr = [np.std(calbf1_init_mem_total), np.std(calbf1_insert_mem_total)], capsize=0.1,\n",
    "        width=width, label='CA-LBF I')\n",
    "plt.bar(x_axis + width, [np.mean(calbf2_init_mem_total), np.mean(calbf2_insert_mem_total)], \n",
    "        yerr = [np.std(calbf2_init_mem_total), np.std(calbf2_insert_mem_total)], capsize=0.1,\n",
    "        width=width, label='CA-LBF II')\n",
    "plt.bar(x_axis + 2*width, [np.mean(base_init_mem_total), np.mean(base_insert_mem_total)], \n",
    "        yerr = [np.std(base_init_mem_total), np.std(base_insert_mem_total)], capsize=0.1,\n",
    "        width=width, label='Baseline')\n",
    "plt.xticks([0, 1], ['Initial', 'Final'], fontsize=14)\n",
    "plt.ylim([0, 3000])\n",
    "plt.ylabel('Memory (bytes)', fontsize=14)\n",
    "#plt.title('Memory usage for Facebook Check-in', fontsize=16)\n",
    "plt.legend(fontsize=14, frameon=False)\n",
    "plt.savefig('plots/fb_mem.png')\n",
    "plt.savefig('plots/fb_mem.pdf')"
   ]
  },
  {
   "cell_type": "code",
   "execution_count": 30,
   "metadata": {
    "Collapsed": "false"
   },
   "outputs": [
    {
     "name": "stdout",
     "output_type": "stream",
     "text": [
      "[0.04, 0.04, 0.04]\n",
      "[0.02, 0.02, 0.02]\n"
     ]
    },
    {
     "data": {
      "image/png": "[encoded data removed]",
      "text/plain": [
       "<Figure size 432x288 with 1 Axes>"
      ]
     },
     "metadata": {
      "needs_background": "light"
     },
     "output_type": "display_data"
    }
   ],
   "source": [
    "x_axis = np.array([0])\n",
    "width = 0.1\n",
    "print(ialbf_init_time)\n",
    "print(ialbf_insert_time)\n",
    "plt.bar(x_axis - width, [np.mean(ialbf_init_time)], \n",
    "        yerr = [np.std(ialbf_init_time)], capsize=0.1,\n",
    "        width=width, label='IA-LBF')\n",
    "plt.bar(x_axis , [np.mean(calbf1_init_time)], \n",
    "        yerr = [np.std(calbf1_init_time)], capsize=0.1,\n",
    "        width=width, label='CA-LBF I')\n",
    "plt.bar(x_axis + width, [np.mean(calbf2_init_time)], \n",
    "        yerr = [np.std(calbf2_init_time)], capsize=0.1,\n",
    "        width=width, label='CA-LBF II')\n",
    "plt.xticks([0], ['Initialization Time'], fontsize=14)\n",
    "plt.ylim([0, 0.25])\n",
    "plt.ylabel('Time (seconds)', fontsize=14)\n",
    "#plt.title('Time for initialization for Facebook Check-in', fontsize=16)\n",
    "plt.legend(fontsize=14, frameon=False)\n",
    "plt.savefig('plots/fb_time.png')\n",
    "plt.savefig('plots/fb_time.pdf')"
   ]
  },
  {
   "cell_type": "code",
   "execution_count": 31,
   "metadata": {
    "Collapsed": "false"
   },
   "outputs": [
    {
     "name": "stdout",
     "output_type": "stream",
     "text": [
      "[0.04, 0.04, 0.04]\n",
      "[0.02, 0.02, 0.02]\n"
     ]
    },
    {
     "data": {
      "image/png": "[encoded data removed]",
      "text/plain": [
       "<Figure size 432x288 with 1 Axes>"
      ]
     },
     "metadata": {
      "needs_background": "light"
     },
     "output_type": "display_data"
    }
   ],
   "source": [
    "x_axis = np.array([0])\n",
    "width = 0.1\n",
    "print(ialbf_init_time)\n",
    "print(ialbf_insert_time)\n",
    "plt.bar(x_axis - 1.5*width, [np.mean(ialbf_insert_time)], \n",
    "        yerr = [np.std(ialbf_init_time)], capsize=0.1,\n",
    "        width=width, label='IA-LBF')\n",
    "plt.bar(x_axis - 0.5*width, [np.mean(calbf1_insert_time)], \n",
    "        yerr = [np.std(calbf1_init_time)], capsize=0.1,\n",
    "        width=width, label='CA-LBF I')\n",
    "plt.bar(x_axis + 0.5*width, [np.mean(calbf2_insert_time)], \n",
    "        yerr = [np.std(calbf2_init_time)], capsize=0.1,\n",
    "        width=width, label='CA-LBF II')\n",
    "plt.bar(x_axis + 1.5*width, [np.mean(base_insert_time)], \n",
    "        yerr = [np.std(base_init_time)], capsize=0.1,\n",
    "        width=width, label='Baseline')\n",
    "plt.xticks([0], ['Insertion Time'], fontsize=14)\n",
    "plt.ylim([0, 0.5])\n",
    "plt.ylabel('Time (seconds)', fontsize=14)\n",
    "#plt.title('Time for insertion per 1000 elements for Facebook Check-in', fontsize=16)\n",
    "plt.legend(fontsize=14, frameon=False)\n",
    "plt.savefig('plots/fb_time.png')\n",
    "plt.savefig('plots/fb_time.pdf')"
   ]
  },
  {
   "cell_type": "code",
   "execution_count": 32,
   "metadata": {
    "Collapsed": "false"
   },
   "outputs": [
    {
     "name": "stdout",
     "output_type": "stream",
     "text": [
      "[0.04, 0.04, 0.04]\n",
      "[0.02, 0.02, 0.02]\n"
     ]
    },
    {
     "data": {
      "image/png": "[encoded data removed]",
      "text/plain": [
       "<Figure size 432x288 with 1 Axes>"
      ]
     },
     "metadata": {
      "needs_background": "light"
     },
     "output_type": "display_data"
    }
   ],
   "source": [
    "x_axis = np.array([0])\n",
    "width = 0.1\n",
    "print(ialbf_init_time)\n",
    "print(ialbf_insert_time)\n",
    "plt.bar(x_axis - 1.5*width, [np.mean(ialbf_insert_time)], \n",
    "        yerr = [np.std(ialbf_init_time)], capsize=0.1,\n",
    "        width=width, label='IA-LBF')\n",
    "plt.bar(x_axis -0.5*width, [np.mean(calbf1_insert_time_train)], \n",
    "        yerr = [np.std(calbf1_init_time)], capsize=0.1,\n",
    "        width=width, label='CA-LBF I')\n",
    "plt.bar(x_axis + 0.5*width, [np.mean(calbf2_insert_time_train)], \n",
    "        yerr = [np.std(calbf2_init_time)], capsize=0.1,\n",
    "        width=width, label='CA-LBF II')\n",
    "plt.bar(x_axis + 1.5*width, [np.mean(base_insert_time_train)], \n",
    "        yerr = [np.std(base_init_time)], capsize=0.1,\n",
    "        width=width, label='Baseline')\n",
    "plt.xticks([0], ['Insertion Time'], fontsize=14)\n",
    "plt.ylim([0, 0.5])\n",
    "plt.ylabel('Time (seconds)', fontsize=14)\n",
    "#plt.title('Time for insertion per 1000 elements (including training) for Facebook Check-in', fontsize=14)\n",
    "plt.legend(fontsize=14, frameon=False)\n",
    "plt.savefig('plots/fb_time_train.png')\n",
    "plt.savefig('plots/fb_time_train.pdf')"
   ]
  },
  {
   "cell_type": "code",
   "execution_count": 19,
   "metadata": {
    "Collapsed": "false"
   },
   "outputs": [],
   "source": [
    "row_labels = ['Init Time', 'Initial FPR', 'Initial Memory', 'Final FPR', 'Final Memory']\n",
    "col_labels = ['IA-LBF', 'CA-LBF I', 'CA-LBF II']\n",
    "cell_text = [[np.mean(ialbf_init_time), np.mean(calbf1_init_time), np.mean(calbf2_init_time)],\n",
    "            [np.mean(ialbf_init_fpr), np.mean(calbf1_init_fpr), np.mean(calbf2_init_fpr)],\n",
    "            [np.mean(ialbf_init_mem_total), np.mean(calbf1_init_mem_total), np.mean(calbf2_init_mem_total)],\n",
    "            [np.mean(ialbf_insert_fpr_all), np.mean(calbf1_insert_fpr_all), np.mean(calbf2_insert_fpr_all)],\n",
    "            [np.mean(ialbf_insert_mem_total), np.mean(calbf1_insert_mem_total), np.mean(calbf2_insert_mem_total)]]\n",
    "import pandas as pd\n",
    "df_mean = pd.DataFrame(cell_text, columns=col_labels, index=row_labels)\n",
    "\n",
    "row_labels = ['Init Time', 'Initial FPR', 'Initial Memory', 'Final FPR', 'Final Memory']\n",
    "col_labels = ['IA-LBF', 'CA-LBF I', 'CA-LBF II']\n",
    "cell_text = [[np.std(ialbf_init_time), np.std(calbf1_init_time), np.std(calbf2_init_time)],\n",
    "            [np.std(ialbf_init_fpr), np.std(calbf1_init_fpr), np.std(calbf2_init_fpr)],\n",
    "            [np.std(ialbf_init_mem_total), np.std(calbf1_init_mem_total), np.std(calbf2_init_mem_total)],\n",
    "            [np.std(ialbf_insert_fpr_all), np.std(calbf1_insert_fpr_all), np.std(calbf2_insert_fpr_all)],\n",
    "            [np.std(ialbf_insert_mem_total), np.std(calbf1_insert_mem_total), np.std(calbf2_insert_mem_total)]]\n",
    "df_std = pd.DataFrame(cell_text, columns=col_labels, index=row_labels)"
   ]
  },
  {
   "cell_type": "code",
   "execution_count": 20,
   "metadata": {
    "Collapsed": "false"
   },
   "outputs": [
    {
     "data": {
      "text/html": [
       "<div>\n",
       "<style scoped>\n",
       "    .dataframe tbody tr th:only-of-type {\n",
       "        vertical-align: middle;\n",
       "    }\n",
       "\n",
       "    .dataframe tbody tr th {\n",
       "        vertical-align: top;\n",
       "    }\n",
       "\n",
       "    .dataframe thead th {\n",
       "        text-align: right;\n",
       "    }\n",
       "</style>\n",
       "<table border=\"1\" class=\"dataframe\">\n",
       "  <thead>\n",
       "    <tr style=\"text-align: right;\">\n",
       "      <th></th>\n",
       "      <th>IA-LBF</th>\n",
       "      <th>CA-LBF I</th>\n",
       "      <th>CA-LBF II</th>\n",
       "    </tr>\n",
       "  </thead>\n",
       "  <tbody>\n",
       "    <tr>\n",
       "      <td>Init Time</td>\n",
       "      <td>0.000000</td>\n",
       "      <td>0.000000</td>\n",
       "      <td>0.000000</td>\n",
       "    </tr>\n",
       "    <tr>\n",
       "      <td>Initial FPR</td>\n",
       "      <td>0.001739</td>\n",
       "      <td>0.001355</td>\n",
       "      <td>0.009785</td>\n",
       "    </tr>\n",
       "    <tr>\n",
       "      <td>Initial Memory</td>\n",
       "      <td>13.063945</td>\n",
       "      <td>0.000000</td>\n",
       "      <td>0.000000</td>\n",
       "    </tr>\n",
       "    <tr>\n",
       "      <td>Final FPR</td>\n",
       "      <td>0.000674</td>\n",
       "      <td>0.001838</td>\n",
       "      <td>0.003102</td>\n",
       "    </tr>\n",
       "    <tr>\n",
       "      <td>Final Memory</td>\n",
       "      <td>13.063945</td>\n",
       "      <td>0.000000</td>\n",
       "      <td>0.000000</td>\n",
       "    </tr>\n",
       "  </tbody>\n",
       "</table>\n",
       "</div>"
      ],
      "text/plain": [
       "                   IA-LBF  CA-LBF I  CA-LBF II\n",
       "Init Time        0.000000  0.000000   0.000000\n",
       "Initial FPR      0.001739  0.001355   0.009785\n",
       "Initial Memory  13.063945  0.000000   0.000000\n",
       "Final FPR        0.000674  0.001838   0.003102\n",
       "Final Memory    13.063945  0.000000   0.000000"
      ]
     },
     "execution_count": 20,
     "metadata": {},
     "output_type": "execute_result"
    }
   ],
   "source": [
    "df_std"
   ]
  },
  {
   "cell_type": "code",
   "execution_count": 33,
   "metadata": {
    "Collapsed": "false"
   },
   "outputs": [
    {
     "name": "stdout",
     "output_type": "stream",
     "text": [
      "[0.04, 0.04, 0.04]\n",
      "[0.02, 0.02, 0.02]\n"
     ]
    },
    {
     "data": {
      "image/png": "[encoded data removed]",
      "text/plain": [
       "<Figure size 432x288 with 1 Axes>"
      ]
     },
     "metadata": {
      "needs_background": "light"
     },
     "output_type": "display_data"
    }
   ],
   "source": [
    "x_axis = np.array([0, 1])\n",
    "width = 0.1\n",
    "print(ialbf_init_time)\n",
    "print(ialbf_insert_time)\n",
    "plt.bar(x_axis - width, [np.mean(ialbf_insert_time), np.mean(ialbf_insert_time)], \n",
    "               yerr = [np.std(ialbf_init_time), np.std(ialbf_init_time)], capsize=0.1,\n",
    "               width=width, label='IA-LBF')\n",
    "plt.bar(x_axis , [np.mean(calbf1_insert_time), np.mean(calbf1_insert_time_train)], \n",
    "\t\t yerr = [np.std(calbf1_insert_time), np.std(calbf1_insert_time_train)], capsize=0.1,\n",
    "\t\t width=width, label='CA-LBF I')\n",
    "plt.bar(x_axis + width, [np.mean(calbf2_insert_time), np.mean(calbf2_insert_time_train)], \n",
    "               yerr = [np.std(calbf2_insert_time), np.std(calbf2_insert_time_train)], capsize=0.1,\n",
    "               width=width, label='CA-LBF II')\n",
    "plt.bar(x_axis + 2*width, [np.mean(base_insert_time), np.mean(base_insert_time_train)], \n",
    "               yerr = [np.std(base_insert_time), np.std(base_insert_time_train)], capsize=0.1,\n",
    "               width=width, label='Baseline')\n",
    "plt.xticks([0.1, 1], ['Excluding training', 'Including training'], fontsize=14)\n",
    "plt.ylim([0, 0.4])\n",
    "plt.ylabel('Time (seconds)', fontsize=14)\n",
    "#plt.title('Time for insertion per 1000 elements for FACEBOOK', fontsize=16)\n",
    "plt.legend(fontsize=14, frameon=False)\n",
    "plt.savefig('plots/facebook_time_all.png')\n",
    "plt.savefig('plots/facebook_time_all.pdf')"
   ]
  },
  {
   "cell_type": "code",
   "execution_count": null,
   "metadata": {
    "Collapsed": "false"
   },
   "outputs": [],
   "source": []
  }
 ],
 "metadata": {
  "kernelspec": {
   "display_name": "Python 3",
   "language": "python",
   "name": "python3"
  },
  "language_info": {
   "codemirror_mode": {
    "name": "ipython",
    "version": 3
   },
   "file_extension": ".py",
   "mimetype": "text/x-python",
   "name": "python",
   "nbconvert_exporter": "python",
   "pygments_lexer": "ipython3",
   "version": "3.7.6"
  }
 },
 "nbformat": 4,
 "nbformat_minor": 4
}
