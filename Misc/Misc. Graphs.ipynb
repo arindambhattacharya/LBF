{
 "cells": [
  {
   "cell_type": "code",
   "execution_count": 1,
   "metadata": {},
   "outputs": [],
   "source": [
    "cifar_size = 4960\n",
    "cifar_time = 20\n",
    "cifar_std = 24\n",
    "\n",
    "mnist_size = 488\n",
    "mnist_time = 12\n",
    "mnist_std = 20\n",
    "\n",
    "letor_size = 56\n",
    "letor_time = 2\n",
    "letor_std = 10\n",
    "\n",
    "\n",
    "facebook_size = 56\n",
    "facebook_time = 1.5\n",
    "facebook_std = 8"
   ]
  },
  {
   "cell_type": "code",
   "execution_count": 2,
   "metadata": {},
   "outputs": [
    {
     "data": {
      "image/png": "[encoded data removed]",
      "text/plain": [
       "<Figure size 432x288 with 1 Axes>"
      ]
     },
     "metadata": {
      "needs_background": "light"
     },
     "output_type": "display_data"
    }
   ],
   "source": [
    "import matplotlib.pyplot as plt\n",
    "plt.style.use('seaborn-muted')\n",
    "plt.xlim([-0.1, 1.1])\n",
    "plt.ylim([-0.1, 1.1])\n",
    "s = 2\n",
    "plt.plot(cifar_size / 4960, cifar_time / 20, markersize=8, marker='o', label='CIFAR', color='#fb9a99')\n",
    "plt.plot(mnist_size / 2480, mnist_time / 20, markersize=8, marker='o', label='MNIST', color='#377eb8')\n",
    "plt.plot(letor_size / 4960, letor_time / 20, markersize=8, marker='o', label='LETOR', color='#4daf4a')\n",
    "plt.plot(facebook_size / 4960, facebook_time / 20, markersize=8, marker='o', label='Facebook', color='#984ea3')\n",
    "plt.plot(cifar_size / 4960, cifar_time / 20, markersize=cifar_std * s, marker='o', color='#fb9a99', alpha=1)\n",
    "plt.plot(mnist_size / 2480, mnist_time / 20, markersize=mnist_std * s, marker='o', color='#377eb8', alpha=1)\n",
    "plt.plot(letor_size / 4960, letor_time / 20, markersize=letor_std * s, marker='o', color='#4daf4a', alpha=1)\n",
    "plt.plot(facebook_size / 4960, facebook_time / 20, markersize=letor_std * s, marker='o', color='#984ea3', alpha=0.8)\n",
    "plt.legend()\n",
    "plt.xlabel('Relative model size')\n",
    "plt.ylabel('Relative training time')\n",
    "plt.savefig('plots/modelcomp.pdf')"
   ]
  },
  {
   "cell_type": "code",
   "execution_count": 4,
   "metadata": {},
   "outputs": [],
   "source": [
    "ialbf_fpr = [0.01, 0.015, 0.02]\n",
    "ialbf_mem = [1400, 4800, 3000]\n",
    "\n",
    "calbf1_fpr = [0.02, 0.07, 0.04]\n",
    "calbf1_mem = [200, 400, 200]\n",
    "\n",
    "calbf2_fpr = [0.02, 0.07, 0.03]\n",
    "calbf2_mem = [200, 400, 200]\n",
    "\n",
    "lbf_fpr = [0.03, 0.07, 0.04]\n",
    "lbf_mem = [100, 200, 100]\n",
    "\n",
    "bf_fpr = [0.06, 0.07, 0.08]\n",
    "bf_mem = [500, 600, 500]"
   ]
  },
  {
   "cell_type": "code",
   "execution_count": null,
   "metadata": {},
   "outputs": [],
   "source": [
    "import numpy as np\n",
    "plt.xlim([-0.1, 1.1])\n",
    "plt.ylim([-0.1, 1.1])\n",
    "s = 3\n",
    "plt.plot(np.mean(ialbf_fpr) / np.mean(bf_fpr), np.mean(ialbf_mem) / np.mean(ialbf_mem), markersize=8, marker='o', label='IA-LBF', color='#4878d0')\n",
    "plt.plot(np.mean(calbf1_fpr) / np.mean(bf_fpr), np.mean(calbf1_mem) / np.mean(ialbf_mem), markersize=8, marker='o', label='CA-LBF I', color='#ee854a')\n",
    "plt.plot(np.mean(calbf2_fpr) / np.mean(bf_fpr), np.mean(calbf2_mem) / np.mean(ialbf_mem), markersize=8, marker='o', label='CA-LBF II', color='#6acc64')\n",
    "plt.plot(np.mean(lbf_fpr) / np.mean(bf_fpr), np.mean(lbf_mem) / np.mean(ialbf_mem), markersize=8, marker='o', label='LBF', color='#d65f5f')\n",
    "plt.plot(np.mean(bf_fpr) / np.mean(bf_fpr), np.mean(bf_mem) / np.mean(ialbf_mem), markersize=8, marker='o', label='BF', color='#956cb4')\n",
    "\n",
    "plt.plot(np.mean(ialbf_fpr) / np.mean(bf_fpr), np.mean(ialbf_mem) / np.mean(ialbf_mem), markersize=9 * s, marker='o', color='#4878d0')\n",
    "plt.plot(np.mean(calbf1_fpr) / np.mean(bf_fpr), np.mean(calbf1_mem) / np.mean(ialbf_mem), markersize=9.5 * s, marker='o', color='#ee854a')\n",
    "plt.plot(np.mean(calbf2_fpr) / np.mean(bf_fpr), np.mean(calbf2_mem) / np.mean(ialbf_mem), markersize=9.5 * s, marker='o', color='#6acc64', alpha=0.8)\n",
    "plt.plot(np.mean(lbf_fpr) / np.mean(bf_fpr), np.mean(lbf_mem) / np.mean(ialbf_mem), markersize=12, marker='o', color='#d65f5f')\n",
    "plt.plot(np.mean(bf_fpr) / np.mean(bf_fpr), np.mean(bf_mem) / np.mean(ialbf_mem), markersize=8, marker='o', color='#956cb4')\n",
    "\n",
    "plt.legend()\n",
    "plt.xlabel('Relative FPR')\n",
    "plt.ylabel('Relative size')\n",
    "plt.savefig('plots/methodcomp.pdf')"
   ]
  },
  {
   "cell_type": "code",
   "execution_count": null,
   "metadata": {},
   "outputs": [],
   "source": []
  }
 ],
 "metadata": {
  "kernelspec": {
   "display_name": "Python 3",
   "language": "python",
   "name": "python3"
  },
  "language_info": {
   "codemirror_mode": {
    "name": "ipython",
    "version": 3
   },
   "file_extension": ".py",
   "mimetype": "text/x-python",
   "name": "python",
   "nbconvert_exporter": "python",
   "pygments_lexer": "ipython3",
   "version": "3.7.7"
  }
 },
 "nbformat": 4,
 "nbformat_minor": 4
}
