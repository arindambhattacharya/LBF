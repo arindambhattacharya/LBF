{
 "cells": [
  {
   "cell_type": "markdown",
   "metadata": {},
   "source": [
    "# DPBF"
   ]
  },
  {
   "cell_type": "code",
   "execution_count": 15,
   "metadata": {},
   "outputs": [],
   "source": [
    "ialbf_init_time = [25.14, 24.89, 25.02]\n",
    "ialbf_init_fpr = [0.005976, 0.008242, 0.005257]\n",
    "ialbf_init_mem_bf = [576, 640, 576]\n",
    "ialbf_init_mem_clf = [56, 56, 56]\n",
    "ialbf_init_mem_clf_full = [4960, 4960, 4960]\n",
    "ialbf_init_mem_total = init_mem_clf + init_mem_bf\n",
    "ialbf_insert_time = [4.8, 5.07, 4.88]\n",
    "ialbf_insert_fpr_ins = [0.004016, 0.009380, 0.007915]\n",
    "ialbf_insert_fpr_test = [0.006000, 0.009000, 0.007000]\n",
    "ialbf_insert_fpr_all = [0.006333, 0.009500, 0.005667]\n",
    "ialbf_insert_mem_bf = [1360.00, 1280, 1360]\n",
    "ialbf_insert_mem_total = init_mem_clf + insert_mem_bf"
   ]
  },
  {
   "cell_type": "code",
   "execution_count": 16,
   "metadata": {},
   "outputs": [],
   "source": [
    "import numpy as np\n",
    "import matplotlib.pyplot as plt\n",
    "plt.style.use('seaborn')"
   ]
  },
  {
   "cell_type": "code",
   "execution_count": 17,
   "metadata": {},
   "outputs": [
    {
     "data": {
      "text/plain": [
       "<matplotlib.legend.Legend at 0x7fc21cd0e240>"
      ]
     },
     "execution_count": 17,
     "metadata": {},
     "output_type": "execute_result"
    },
    {
     "data": {
      "image/png": "[encoded data removed]",
      "text/plain": [
       "<Figure size 576x396 with 1 Axes>"
      ]
     },
     "metadata": {},
     "output_type": "display_data"
    }
   ],
   "source": [
    "plt.bar(['Initial', 'Insertion'], [np.mean(ialbf_init_fpr), np.mean(ialbf_insert_fpr_all)], label='IA_LBF')\n",
    "plt.ylim([0, 0.01])\n",
    "plt.legend()"
   ]
  },
  {
   "cell_type": "code",
   "execution_count": null,
   "metadata": {},
   "outputs": [],
   "source": []
  }
 ],
 "metadata": {
  "kernelspec": {
   "display_name": "Python 3",
   "language": "python",
   "name": "python3"
  },
  "language_info": {
   "codemirror_mode": {
    "name": "ipython",
    "version": 3
   },
   "file_extension": ".py",
   "mimetype": "text/x-python",
   "name": "python",
   "nbconvert_exporter": "python",
   "pygments_lexer": "ipython3",
   "version": "3.6.7"
  }
 },
 "nbformat": 4,
 "nbformat_minor": 2
}
